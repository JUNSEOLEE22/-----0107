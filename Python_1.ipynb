{
  "nbformat": 4,
  "nbformat_minor": 0,
  "metadata": {
    "colab": {
      "name": "Python_1.ipynb",
      "provenance": [],
      "authorship_tag": "ABX9TyMr+niHoK4DE6pNZnPHVfQ2",
      "include_colab_link": true
    },
    "kernelspec": {
      "name": "python3",
      "display_name": "Python 3"
    },
    "language_info": {
      "name": "python"
    }
  },
  "cells": [
    {
      "cell_type": "markdown",
      "metadata": {
        "id": "view-in-github",
        "colab_type": "text"
      },
      "source": [
        "<a href=\"https://colab.research.google.com/github/JUNSEOLEE22/-----0107/blob/main/Python_1.ipynb\" target=\"_parent\"><img src=\"https://colab.research.google.com/assets/colab-badge.svg\" alt=\"Open In Colab\"/></a>"
      ]
    },
    {
      "cell_type": "code",
      "execution_count": 2,
      "metadata": {
        "colab": {
          "base_uri": "https://localhost:8080/"
        },
        "id": "V1je7qYx-j9W",
        "outputId": "37715b70-06ad-4db9-bc54-82c4c08b1b91"
      },
      "outputs": [
        {
          "output_type": "stream",
          "name": "stdout",
          "text": [
            "Hello World\n"
          ]
        }
      ],
      "source": [
        "print(\"Hello World\")"
      ]
    },
    {
      "cell_type": "code",
      "source": [
        "print('Hello World')"
      ],
      "metadata": {
        "colab": {
          "base_uri": "https://localhost:8080/"
        },
        "id": "CV-M_rlW_Dil",
        "outputId": "bcd5df03-fbae-4050-cbf5-9652180e4ad1"
      },
      "execution_count": 3,
      "outputs": [
        {
          "output_type": "stream",
          "name": "stdout",
          "text": [
            "Hello World\n"
          ]
        }
      ]
    },
    {
      "cell_type": "code",
      "source": [
        "print(1+2)"
      ],
      "metadata": {
        "colab": {
          "base_uri": "https://localhost:8080/"
        },
        "id": "UNgTuP2r_RQX",
        "outputId": "4d51ab9b-026e-4c14-e40c-18d635a212b7"
      },
      "execution_count": 4,
      "outputs": [
        {
          "output_type": "stream",
          "name": "stdout",
          "text": [
            "3\n"
          ]
        }
      ]
    },
    {
      "cell_type": "code",
      "source": [
        "print(2*3)"
      ],
      "metadata": {
        "colab": {
          "base_uri": "https://localhost:8080/"
        },
        "id": "uUGJOxn8_oMy",
        "outputId": "adff1744-77d6-44dc-d439-aec5a9ed7754"
      },
      "execution_count": 5,
      "outputs": [
        {
          "output_type": "stream",
          "name": "stdout",
          "text": [
            "6\n"
          ]
        }
      ]
    },
    {
      "cell_type": "code",
      "source": [
        "print(True)"
      ],
      "metadata": {
        "colab": {
          "base_uri": "https://localhost:8080/"
        },
        "id": "DWK0y48-AtqT",
        "outputId": "ec0e58a8-86da-4198-8a1d-8025a2b8a667"
      },
      "execution_count": 7,
      "outputs": [
        {
          "output_type": "stream",
          "name": "stdout",
          "text": [
            "True\n"
          ]
        }
      ]
    },
    {
      "cell_type": "code",
      "source": [
        "print(False)"
      ],
      "metadata": {
        "colab": {
          "base_uri": "https://localhost:8080/"
        },
        "id": "c5LsH31GA2Gx",
        "outputId": "9a6df662-7283-4d22-a37b-726df8e5193f"
      },
      "execution_count": 8,
      "outputs": [
        {
          "output_type": "stream",
          "name": "stdout",
          "text": [
            "False\n"
          ]
        }
      ]
    },
    {
      "cell_type": "code",
      "source": [
        "a=3\n",
        "b=4\n",
        "c=a+b\n",
        "print(c) ; print(a) ; print(b)"
      ],
      "metadata": {
        "colab": {
          "base_uri": "https://localhost:8080/"
        },
        "id": "taImPFC-A758",
        "outputId": "13715f04-7283-4db2-ee72-4ee66a853d7c"
      },
      "execution_count": 10,
      "outputs": [
        {
          "output_type": "stream",
          "name": "stdout",
          "text": [
            "7\n",
            "3\n",
            "4\n"
          ]
        }
      ]
    },
    {
      "cell_type": "code",
      "source": [
        "a = \"안녕하세요.\" ;\n",
        "b = \"반갑습니다.\" ;\n",
        "c = a+b;\n",
        "print(c)\n"
      ],
      "metadata": {
        "colab": {
          "base_uri": "https://localhost:8080/"
        },
        "id": "N1nnC9uaBueN",
        "outputId": "1833c13e-b3fe-41b0-8309-3d95d0c09bf6"
      },
      "execution_count": 11,
      "outputs": [
        {
          "output_type": "stream",
          "name": "stdout",
          "text": [
            "안녕하세요.반갑습니다.\n"
          ]
        }
      ]
    },
    {
      "cell_type": "code",
      "source": [
        "a = \"안녕하세요.\" ;\n",
        "b = a*10;\n",
        "print(b)"
      ],
      "metadata": {
        "colab": {
          "base_uri": "https://localhost:8080/"
        },
        "id": "G2a0syyoCHiM",
        "outputId": "88272b7e-f646-4fe8-a167-1b39382a5628"
      },
      "execution_count": 13,
      "outputs": [
        {
          "output_type": "stream",
          "name": "stdout",
          "text": [
            "안녕하세요.안녕하세요.안녕하세요.안녕하세요.안녕하세요.안녕하세요.안녕하세요.안녕하세요.안녕하세요.안녕하세요.\n"
          ]
        }
      ]
    },
    {
      "cell_type": "code",
      "source": [
        "print(\"#############\")\n",
        "print(\"#\" * 15)"
      ],
      "metadata": {
        "colab": {
          "base_uri": "https://localhost:8080/"
        },
        "id": "ntD4mRgVCXG9",
        "outputId": "3b51bd92-bc2d-448c-c1a6-a327c1e89627"
      },
      "execution_count": 14,
      "outputs": [
        {
          "output_type": "stream",
          "name": "stdout",
          "text": [
            "#############\n",
            "###############\n"
          ]
        }
      ]
    },
    {
      "cell_type": "markdown",
      "source": [
        "아버지와 어머니 그리고 삼촌에게 감사하다고 감사한마음을 전하고 싶습니다.\n",
        "아버지에게는 10만원, 어머니에게는 15만원, 삼촌에게는 \"감사합니다.\"\n",
        "변수 : _Father, _Mother, _Uncle"
      ],
      "metadata": {
        "id": "BZqKZN4lC43u"
      }
    },
    {
      "cell_type": "code",
      "source": [
        "_Father = \"100,000\"\n",
        "_Mother = \"150,000\"\n",
        "_Uncle = \"감사합니다.\"\n",
        "print(\"아버지=\" , _Father, \"원\")\n",
        "print(\"어머니=\" , _Mother, \"원\")\n",
        "print(\"삼촌=\" , _Uncle)"
      ],
      "metadata": {
        "colab": {
          "base_uri": "https://localhost:8080/"
        },
        "id": "zYiEu53VCwdM",
        "outputId": "0c60caf0-0a6e-4e1b-cef3-76842f3ec659"
      },
      "execution_count": 16,
      "outputs": [
        {
          "output_type": "stream",
          "name": "stdout",
          "text": [
            "아버지= 100,000 원\n",
            "어머니= 150,000 원\n",
            "삼촌= 감사합니다.\n"
          ]
        }
      ]
    },
    {
      "cell_type": "markdown",
      "source": [
        "변수의 규칙 : 문자 또는 _로시작(Father, father, _father), 문자, 숫자, _구성(Father69, father55, father_56), 공백절대안된다. 안쓰는 것이 좋다. 특수문자 절대안된다."
      ],
      "metadata": {
        "id": "44bC-JbjFybX"
      }
    },
    {
      "cell_type": "markdown",
      "source": [
        "FATHER, father, MOTHER, mother, _Father, _father, Keyword (True, False, for, while, if, continue, break, class...)"
      ],
      "metadata": {
        "id": "wqc_8nPwGokn"
      }
    },
    {
      "cell_type": "markdown",
      "source": [
        "숫자자료형 = 숫자, 문자자료형 = 모든문자들.."
      ],
      "metadata": {
        "id": "BuKTG8STHJEp"
      }
    },
    {
      "cell_type": "code",
      "source": [
        "a=2\n",
        "b=\"2\"\n",
        "c= a + int(b) \n",
        "print(c)"
      ],
      "metadata": {
        "colab": {
          "base_uri": "https://localhost:8080/"
        },
        "id": "K7ql7O6gHaRS",
        "outputId": "2c981183-eb58-421c-f4ec-71182bfee5c7"
      },
      "execution_count": 21,
      "outputs": [
        {
          "output_type": "stream",
          "name": "stdout",
          "text": [
            "4\n"
          ]
        }
      ]
    },
    {
      "cell_type": "markdown",
      "source": [
        "형변환 : 정수형을 변환할때int(), 실수형으로 변환하고자 할때float(), 문자자료형으로 변환하고자할때 str(), int(float(\"2.5\"))"
      ],
      "metadata": {
        "id": "hLvsBzttHumJ"
      }
    },
    {
      "cell_type": "markdown",
      "source": [
        "산술연산자 : + 더하기(print(4+3), -빼기(print(2-1), * 곱하기(print(5*4), / 나누기(print(4/2)), % 나머지print(5 % 2), // 몫 print(6 // 2), * 거듭제곱 print(4**2)"
      ],
      "metadata": {
        "id": "bi8UUaeiIkqR"
      }
    }
  ]
}