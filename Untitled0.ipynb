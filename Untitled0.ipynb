{
  "nbformat": 4,
  "nbformat_minor": 0,
  "metadata": {
    "colab": {
      "name": "Untitled0.ipynb",
      "provenance": [],
      "authorship_tag": "ABX9TyNk0sHMwoeB9ragQgrZSxYO",
      "include_colab_link": true
    },
    "kernelspec": {
      "name": "python3",
      "display_name": "Python 3"
    },
    "language_info": {
      "name": "python"
    }
  },
  "cells": [
    {
      "cell_type": "markdown",
      "metadata": {
        "id": "view-in-github",
        "colab_type": "text"
      },
      "source": [
        "<a href=\"https://colab.research.google.com/github/JUNSEOLEE22/-----0107/blob/main/Untitled0.ipynb\" target=\"_parent\"><img src=\"https://colab.research.google.com/assets/colab-badge.svg\" alt=\"Open In Colab\"/></a>"
      ]
    },
    {
      "cell_type": "code",
      "execution_count": 2,
      "metadata": {
        "colab": {
          "base_uri": "https://localhost:8080/"
        },
        "id": "B9tUkw7bonXX",
        "outputId": "d9680d80-775d-416e-d59f-90feeaeec979"
      },
      "outputs": [
        {
          "output_type": "stream",
          "name": "stdout",
          "text": [
            "3개의 정수값을 입력하시오\n",
            "n1의 정수값을 입력: 5\n",
            "n1의 정수값을 입력: 8\n",
            "n1의 정수값을 입력: 2\n",
            "5.0\n"
          ]
        }
      ],
      "source": [
        "print(\"3개의 정수값을 입력하시오\")\n",
        "n1 = int(input(\"n1의 정수값을 입력: \")) \n",
        "n2 = int(input(\"n1의 정수값을 입력: \")) \n",
        "n3 = int(input(\"n1의 정수값을 입력: \")) \n",
        "total = n1 + n2 + n3;\n",
        "average = total /3 ;\n",
        "print(average)"
      ]
    },
    {
      "cell_type": "code",
      "source": [
        "import math  \n",
        " \n",
        "print(\"'a, b, c' 3개의 값을 입력하시오\")\n",
        "a = int(input(\"Enter the a: \")) \n",
        "b = int(input(\"Enter the b: \")) \n",
        "c = int(input(\"Enter the c: \"))  \n",
        "d = math.sqrt(b*b) - (4*a*c);\n",
        " \n",
        "x1 = (-b+d) / (2 * a);\n",
        "x2 = (-b-d) / (2 * a);\n",
        "print(x1, x2)\n"
      ],
      "metadata": {
        "colab": {
          "base_uri": "https://localhost:8080/"
        },
        "id": "1t-huJqNwEqo",
        "outputId": "5ed66e1e-b92c-4f68-a0e6-2985ba4be20c"
      },
      "execution_count": 3,
      "outputs": [
        {
          "output_type": "stream",
          "name": "stdout",
          "text": [
            "'a, b, c' 3개의 값을 입력하시오\n",
            "Enter the a: 8\n",
            "Enter the b: 50\n",
            "Enter the c: 200\n",
            "-400.0 393.75\n"
          ]
        }
      ]
    },
    {
      "cell_type": "code",
      "source": [
        "import math\n",
        "# 근의공식 구하기\n",
        "a = int(input(\"a의 값을 입력하세요: \"))\n",
        "b = int(input(\"b의 값을 입력하세요: \"))\n",
        "c = int(input(\"c의 값을 입력하세요: \"))\n",
        "x1 = ( (-b + (math.sqrt(b**2) - 4 * a * c))/2 * a)\n",
        "x2 = ( (-b - (math.sqrt(b**2) - 4 * a * c))/2 * a)\n",
        "print(\"x1 = \" , x1)\n",
        "print(\"x2 = \" , x2)"
      ],
      "metadata": {
        "colab": {
          "base_uri": "https://localhost:8080/"
        },
        "id": "si8uVqRNxQ7G",
        "outputId": "44f0084f-7a05-418e-f7f0-d048f677a346"
      },
      "execution_count": 8,
      "outputs": [
        {
          "output_type": "stream",
          "name": "stdout",
          "text": [
            "a의 값을 입력하세요: 49\n",
            "b의 값을 입력하세요: 64\n",
            "c의 값을 입력하세요: 100\n",
            "x1 =  -480200.0\n",
            "x2 =  477064.0\n"
          ]
        }
      ]
    },
    {
      "cell_type": "code",
      "source": [
        "total = 0 \n",
        "counter = 1 \n",
        "while counter <= 10:\n",
        " grade=int(input (\"Enter grade: \"))\n",
        " total = grade + total \n",
        " counter = counter + 1\n",
        "average = total / 10\n",
        "print(average)"
      ],
      "metadata": {
        "colab": {
          "base_uri": "https://localhost:8080/"
        },
        "id": "i6B1ZKTnyYsJ",
        "outputId": "89ec6c4f-3d59-4b58-cbad-e84bbcde56cc"
      },
      "execution_count": 11,
      "outputs": [
        {
          "output_type": "stream",
          "name": "stdout",
          "text": [
            "Enter grade: 28\n",
            "Enter grade: 23\n",
            "Enter grade: 19\n",
            "Enter grade: 47\n",
            "Enter grade: 20\n",
            "Enter grade: 15\n",
            "Enter grade: 80\n",
            "Enter grade: 40\n",
            "Enter grade: 53\n",
            "Enter grade: 59\n",
            "38.4\n"
          ]
        }
      ]
    }
  ]
}